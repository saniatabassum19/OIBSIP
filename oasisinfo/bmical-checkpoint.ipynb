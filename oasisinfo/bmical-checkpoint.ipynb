{
 "cells": [
  {
   "cell_type": "code",
   "execution_count": 1,
   "id": "3bf419fd-71fc-4f72-a3b8-729aa009a346",
   "metadata": {},
   "outputs": [
    {
     "name": "stdin",
     "output_type": "stream",
     "text": [
      " 70\n",
      " 1.75\n"
     ]
    },
    {
     "name": "stdout",
     "output_type": "stream",
     "text": [
      "Normal\n"
     ]
    }
   ],
   "source": [
    "weight =int(input())\n",
    "height =float(input())\n",
    "results =(weight/(height**2))\n",
    "if results < 18.5 :\n",
    "    print(\"Underweight\")\n",
    "elif results >= 18.5 and results < 25 :\n",
    "    print(\"Normal\")\n",
    "elif results >= 25 and results < 30 :\n",
    "    print(\"Overweight\")\n",
    "elif results >= 30 :\n",
    "    print(\"Obesity\")\n"
   ]
  },
  {
   "cell_type": "code",
   "execution_count": null,
   "id": "bdd1ef09-1330-47e2-983d-6ab446d10322",
   "metadata": {},
   "outputs": [],
   "source": []
  }
 ],
 "metadata": {
  "kernelspec": {
   "display_name": "Python 3 (ipykernel)",
   "language": "python",
   "name": "python3"
  },
  "language_info": {
   "codemirror_mode": {
    "name": "ipython",
    "version": 3
   },
   "file_extension": ".py",
   "mimetype": "text/x-python",
   "name": "python",
   "nbconvert_exporter": "python",
   "pygments_lexer": "ipython3",
   "version": "3.12.3"
  }
 },
 "nbformat": 4,
 "nbformat_minor": 5
}
