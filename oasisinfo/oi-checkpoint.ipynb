{
 "cells": [
  {
   "cell_type": "code",
   "execution_count": 1,
   "id": "69db9c5f-add1-4fee-bb86-fbdc680b7c3b",
   "metadata": {},
   "outputs": [],
   "source": [
    "# pip install tkinter\n",
    "from tkinter import *\n",
    "import random\n",
    "\n",
    "root = Tk()\n",
    "root.geometry(\"700x300\")\n",
    "passwrd = StringVar()\n",
    "passlen = IntVar()\n",
    "passlen.set(0)\n",
    "\n",
    "\n",
    "def generate(): # Function to generate the password\n",
    "\tpass1 = ['a', 'b', 'c', 'd', 'e', 'f', 'g', 'h', 'i', 'j',\n",
    "\t\t\t'k', 'l', 'm', 'n', 'o', 'p', 'q', 'r', 's', 't',\n",
    "\t\t\t'u', 'v', 'w', 'x', 'y', 'z', 'A', 'B', 'C', 'D',\n",
    "\t\t\t'E', 'F', 'G', 'H', 'I', 'J', 'K', 'L', 'M', 'N',\n",
    "\t\t\t'O', 'P', 'Q', 'R', 'S', 'T', 'U', 'V', 'W', 'X',\n",
    "\t\t\t'Y', 'Z', '1', '2', '3', '4', '5', '6', '7', '8',\n",
    "\t\t\t'9', '0', ' ', '!', '@', '#', '$', '%', '^', '&',\n",
    "\t\t\t'*', '(', ')']\n",
    "\tpassword = \"\"\n",
    "\tfor x in range(passlen.get()):\n",
    "\t\tpassword = password + random.choice(pass1)\n",
    "\tpasswrd.set(password)\n",
    "\n",
    "# function to copy the passcode\n",
    "\n",
    "\n",
    "def copyclipboard():\n",
    "\trandom_password = passwrd.get()\n",
    "\tpyperclip.copy(random_password)\n",
    "# Labels\n",
    "\n",
    "\n",
    "Label(root, text=\"complex Password Generator\", font=\"Courier 30 bold\").pack()\n",
    "Label(root, text=\"ST\", font=\"Courier 20 italic\").pack()\n",
    "Label(root, text=\"Enter the number to get password\").pack(pady=3)\n",
    "Entry(root, textvariable=passlen).pack(pady=3)\n",
    "Button(root, text=\"Tap to get\", command=generate).pack(pady=7)\n",
    "Entry(root, textvariable=passwrd).pack(pady=3)\n",
    "Button(root, text=\"Tap to copy clipboard\", command=copyclipboard).pack()\n",
    "root.mainloop()\n"
   ]
  },
  {
   "cell_type": "code",
   "execution_count": null,
   "id": "3469e5eb-4331-40ab-82ac-74149e2477f0",
   "metadata": {},
   "outputs": [],
   "source": []
  }
 ],
 "metadata": {
  "kernelspec": {
   "display_name": "Python 3 (ipykernel)",
   "language": "python",
   "name": "python3"
  },
  "language_info": {
   "codemirror_mode": {
    "name": "ipython",
    "version": 3
   },
   "file_extension": ".py",
   "mimetype": "text/x-python",
   "name": "python",
   "nbconvert_exporter": "python",
   "pygments_lexer": "ipython3",
   "version": "3.12.3"
  }
 },
 "nbformat": 4,
 "nbformat_minor": 5
}
