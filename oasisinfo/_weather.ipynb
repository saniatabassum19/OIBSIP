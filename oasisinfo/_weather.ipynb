{
 "cells": [
  {
   "cell_type": "code",
   "execution_count": 7,
   "id": "40ec21c6-6fc2-4187-8bc4-036966d2c1e1",
   "metadata": {},
   "outputs": [
    {
     "name": "stdin",
     "output_type": "stream",
     "text": [
      "Enter the name of city or PIN code:  hyderabad\n"
     ]
    },
    {
     "name": "stdout",
     "output_type": "stream",
     "text": [
      "WEATHER in hyderabad:\n",
      "\t TEMERATURE: 30.23℃\n",
      "\tFeels Like: 34.62°C\n",
      "\tMinimum TEMPERATURE: 28.73℃\n",
      "\tMaximum TEMPERATURE: 30.23°℃\n",
      "\tHumdity: 66%\n",
      "\tWind Speed: 7.2 m/s\n",
      "\tCloud Coverage: 75%\n",
      "\tVisibility: 6000 m\n",
      "\tDew Point: None°c\n",
      "\tPressure: 1000 hPa\n",
      "\tRain: None mm\n"
     ]
    }
   ],
   "source": [
    "import requests\n",
    "from typing import Optional\n",
    "\n",
    "def get_weather(api_key: str, city: str) -> None:\n",
    "\n",
    "    if not api_key:\n",
    "        raise ValueError(\"API key must be provided\")\n",
    "    if not city:\n",
    "        raise ValueError(\"City must be provided\")\n",
    "\n",
    "    base_url = \"http://api.openweathermap.org/data/2.5/weather\"\n",
    "    params = {\n",
    "        \"q\": city,\n",
    "        \"appid\": api_key,\n",
    "        \"units\": \"metric\",\n",
    "\n",
    "    }\n",
    "\n",
    "    try:\n",
    "        response = requests.get(base_url, params=params)\n",
    "        data = response. json()\n",
    "\n",
    "        if response.status_code == 200:\n",
    "            # Extract relevant information from the API response\n",
    "            temperature = data[\"main\"][\"temp\"]\n",
    "            feels_like = data[\"main\"][\"feels_like\"]\n",
    "            temp_min = data[\"main\"][\"temp_min\"]\n",
    "            temp_max = data[\"main\"][\"temp_max\"]\n",
    "            pressure = data[\"main\"] [\"pressure\"]\n",
    "            humidity = data[\"main\"][\"humidity\"]\n",
    "            description = data[\"weather\"][0][\"description\"]\n",
    "            wind_speed = data[\"wind\"] [\"speed\"]\n",
    "            clouds = data[\"clouds\"][\"all\"]\n",
    "            visibility = data[\"visibility\"]\n",
    "            dew_point: Optional[float] = data.get(\"main\", {}) .get(\"dew_point\")\n",
    "            rain: Optional[float] = data.get(\"rain\", {}) .get(\"1h\")\n",
    "\n",
    "            print(f\"WEATHER in {city}:\")\n",
    "\n",
    "            print(f\"\\t TEMERATURE: {temperature}℃\")\n",
    "\n",
    "            print(f\"\\tFeels Like: {feels_like}°C\")\n",
    "            print(f\"\\tMinimum TEMPERATURE: {temp_min}℃\")\n",
    "\n",
    "            print(f\"\\tMaximum TEMPERATURE: {temp_max}°℃\")\n",
    "\n",
    "            print(f\"\\tHumdity: {humidity}%\")\n",
    "\n",
    "            print(f\"\\tWind Speed: {wind_speed} m/s\")\n",
    "\n",
    "            print(f\"\\tCloud Coverage: {clouds}%\")\n",
    "\n",
    "            print(f\"\\tVisibility: {visibility} m\")\n",
    "\n",
    "            print(f\"\\tDew Point: {dew_point}°c\")\n",
    "\n",
    "            print(f\"\\tPressure: {pressure} hPa\")\n",
    "\n",
    "            print(f\"\\tRain: {rain} mm\")\n",
    "        else:\n",
    "            print(f\"Error: {data['message']}\")\n",
    "\n",
    "    except Exception as e:\n",
    "        print(f\"An error occurred: {e}\")\n",
    "\n",
    "def main() -> None:\n",
    "    api_key = \"6ac51341fbe25af0043f9a7e166961c4\"\n",
    "    city = input(\"Enter the name of city or PIN code: \")\n",
    "\n",
    "    get_weather(api_key, city)\n",
    "\n",
    "if __name__==\"__main__\":\n",
    "    main()"
   ]
  },
  {
   "cell_type": "code",
   "execution_count": null,
   "id": "09025f7d-484d-453c-a66e-a3a400bc352b",
   "metadata": {},
   "outputs": [],
   "source": []
  }
 ],
 "metadata": {
  "kernelspec": {
   "display_name": "Python 3 (ipykernel)",
   "language": "python",
   "name": "python3"
  },
  "language_info": {
   "codemirror_mode": {
    "name": "ipython",
    "version": 3
   },
   "file_extension": ".py",
   "mimetype": "text/x-python",
   "name": "python",
   "nbconvert_exporter": "python",
   "pygments_lexer": "ipython3",
   "version": "3.12.3"
  }
 },
 "nbformat": 4,
 "nbformat_minor": 5
}
